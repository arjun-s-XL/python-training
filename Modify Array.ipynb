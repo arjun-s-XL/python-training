{
 "cells": [
  {
   "cell_type": "markdown",
   "id": "22a1d64e-0559-409f-b211-ab9828a601cd",
   "metadata": {},
   "source": [
    "Given an array arr. Return all the numbers less than k and the number which have at least two digits and the absolute difference between every adjacent digit of that number should be 1 in the array.\n",
    "\n",
    "Note: Return an empty list if no such number is present.\n",
    "\n",
    "Examples:Input: arr[] = [7, 98, 56, 43, 45, 23, 12, 8], k = 54\n",
    "\n",
    "Output: [43, 45, 23, 12]\n",
    "\n",
    "Explanation: 43 45 23 12 all these numbers have adjacent digits diff as 1 and they areless than 54.Input: arr[] = [87, 89, 45, 235, 465, 765, 123, 987, 499, 655], k = 1000\n",
    "\n",
    "Output: [87, 89, 45, 765, 123, 987]\n",
    "\n",
    "Explanation: 87 89 45 765 123 987 all these numbers have adjacent digits diff as 1 and they areless than 1000."
   ]
  },
  {
   "cell_type": "code",
   "execution_count": 9,
   "id": "42c04de9-a4e9-4d45-af50-8f4e4c62c1ed",
   "metadata": {},
   "outputs": [
    {
     "name": "stdout",
     "output_type": "stream",
     "text": [
      "[43, 45, 23, 12]\n",
      "[87, 89, 45, 765, 123, 987]\n"
     ]
    }
   ],
   "source": [
    "def modify(arr, k):\n",
    "    new_arr = [i for i in arr if i < k and i >= 10]\n",
    "    result = [i for i in new_arr if adj(i)]  \n",
    "\n",
    "    for i in result:\n",
    "    return result\n",
    "    \n",
    "\n",
    "def adj(num):\n",
    "    num_str = str(num)\n",
    "    for i in range(len(num_str) - 1):\n",
    "        if abs(int(num_str[i]) - int(num_str[i + 1])) != 1:\n",
    "            return False\n",
    "    return True\n",
    "    \n",
    "input1 = [7, 98, 56, 43, 45, 23, 12, 8]\n",
    "k = 54\n",
    "print(modify(input1, k))  \n",
    "\n",
    "input2 = [87, 89, 45, 235, 465, 765, 123, 987, 499, 655]\n",
    "k = 1000\n",
    "print(modify(input2, k)) \n"
   ]
  },
  {
   "cell_type": "code",
   "execution_count": 13,
   "id": "088cd007-5a1f-4d72-873e-47af7421c04f",
   "metadata": {},
   "outputs": [
    {
     "name": "stdout",
     "output_type": "stream",
     "text": [
      "[43, 45, 23, 12]\n",
      "[87, 89, 45, 765, 123, 987]\n"
     ]
    }
   ],
   "source": [
    "def modify_recursive(arr, k):\n",
    "    return modify(arr, k)\n",
    "    \n",
    "def check_consecutive_digits(num_str):\n",
    "        if len(num_str) < 2:\n",
    "            return True\n",
    "        return (abs(int(num_str[0]) - int(num_str[1])) == 1 and\n",
    "                check_consecutive_digits(num_str[1:]))\n",
    "\n",
    "def modify(arr, k, index=0, result=None):\n",
    "        if result is None:\n",
    "            result = []\n",
    "        if index >= len(arr):\n",
    "            return result\n",
    "        \n",
    "        num = arr[index]\n",
    "        if num < k and num >= 10:\n",
    "            num_str = str(num)\n",
    "            if check_consecutive_digits(num_str):\n",
    "                result.append(num)\n",
    "        \n",
    "        return modify(arr, k, index + 1, result)\n",
    "    \n",
    "input1 = [7, 98, 56, 43, 45, 23, 12, 8]\n",
    "k = 54\n",
    "print(modify(input1, k))  \n",
    "\n",
    "input2 = [87, 89, 45, 235, 465, 765, 123, 987, 499, 655]\n",
    "k = 1000\n",
    "print(modify(input2, k)) "
   ]
  },
  {
   "cell_type": "code",
   "execution_count": 19,
   "id": "cd79e46a-7b6a-461a-933f-205b4b08a5e7",
   "metadata": {},
   "outputs": [
    {
     "name": "stdout",
     "output_type": "stream",
     "text": [
      "HI\n",
      "HELLO\n",
      "WELCOME\n",
      "H\n",
      "I\n",
      " \n",
      "H\n",
      "E\n",
      "L\n",
      "L\n",
      "O\n",
      " \n",
      "W\n",
      "E\n",
      "L\n",
      "C\n",
      "O\n",
      "M\n",
      "E\n"
     ]
    }
   ],
   "source": [
    "string=\"hi hello welcome\"\n",
    "string=string.upper()\n",
    "for char in string.split():\n",
    "    print(char)\n",
    "\n",
    "for char in string:\n",
    "    print(char)"
   ]
  },
  {
   "cell_type": "code",
   "execution_count": null,
   "id": "199d2d3c-e53c-404e-aa2c-62dd28cc30d8",
   "metadata": {},
   "outputs": [],
   "source": []
  }
 ],
 "metadata": {
  "kernelspec": {
   "display_name": "Python 3 (ipykernel)",
   "language": "python",
   "name": "python3"
  },
  "language_info": {
   "codemirror_mode": {
    "name": "ipython",
    "version": 3
   },
   "file_extension": ".py",
   "mimetype": "text/x-python",
   "name": "python",
   "nbconvert_exporter": "python",
   "pygments_lexer": "ipython3",
   "version": "3.12.5"
  }
 },
 "nbformat": 4,
 "nbformat_minor": 5
}
