{
 "cells": [
  {
   "cell_type": "code",
   "execution_count": 2,
   "id": "ae2ea7b6-bfc3-4a8d-b33f-c517805f2f04",
   "metadata": {},
   "outputs": [
    {
     "name": "stdin",
     "output_type": "stream",
     "text": [
      "Enter number of rows 5\n"
     ]
    },
    {
     "name": "stdout",
     "output_type": "stream",
     "text": [
      "    *\n",
      "   ***\n",
      "  *****\n",
      " *******\n",
      "*********\n"
     ]
    }
   ],
   "source": [
    "#Team A Prog 1 - Triangle pattern\n",
    "n=int(input(\"Enter number of rows\"))\n",
    "for i in range(n):\n",
    "    print(' ' * (n - i - 1), end='')\n",
    "    print('*' * (2 * i + 1))"
   ]
  },
  {
   "cell_type": "code",
   "execution_count": 12,
   "id": "20a743d9-b5f8-4f1a-90ce-007005697cab",
   "metadata": {},
   "outputs": [
    {
     "name": "stdin",
     "output_type": "stream",
     "text": [
      "enter a sentence:  Roooom have a good day\n"
     ]
    },
    {
     "name": "stdout",
     "output_type": "stream",
     "text": [
      "roooom\n",
      "good\n"
     ]
    }
   ],
   "source": [
    "#Team A prog 2 - Duplicate removal - return words with duplicate letters\n",
    "string1=input(\"enter a sentence: \")\n",
    "string1=string1.lower()\n",
    "l=string1.split()\n",
    "for i in l:\n",
    "    for j in range(len(i)):\n",
    "        if i[j] in i[j+1:]:\n",
    "            print(i)\n",
    "            break\n",
    "        else:\n",
    "            continue"
   ]
  },
  {
   "cell_type": "code",
   "execution_count": 6,
   "id": "1b82aafb-0b78-4396-9ef8-9b8c3e26d01d",
   "metadata": {},
   "outputs": [
    {
     "name": "stdin",
     "output_type": "stream",
     "text": [
      "Enter the number of lines:  5\n"
     ]
    },
    {
     "name": "stdout",
     "output_type": "stream",
     "text": [
      "    *    \n",
      "   * *   \n",
      "  *****  \n",
      " *     * \n",
      "*       *\n"
     ]
    }
   ],
   "source": [
    "#Team B prog 1 - Letter pattern (A) - asterisk pattern of A\n",
    "n = int(input(\"Enter the number of lines: \"))\n",
    "if n < 3:\n",
    "    print(\"Number of lines should be at least 3.\")\n",
    "else:\n",
    "    width = 2 * n - 1\n",
    "        \n",
    "    for i in range(n):\n",
    "        for j in range(width):\n",
    "            if j == n - i - 1 or j == n + i - 1 or (i == n // 2 and j > n - i - 1 and j < n + i - 1):\n",
    "                print('*', end='')\n",
    "            else:\n",
    "                print(' ', end='')\n",
    "        print()"
   ]
  },
  {
   "cell_type": "code",
   "execution_count": 7,
   "id": "a28fbe4e-bee4-4f9c-87e2-5d43c1cf90c5",
   "metadata": {},
   "outputs": [
    {
     "name": "stdin",
     "output_type": "stream",
     "text": [
      "Enter number of lines:  5\n"
     ]
    },
    {
     "name": "stdout",
     "output_type": "stream",
     "text": [
      "*       *\n",
      "*       *\n",
      "*********\n",
      "*       *\n",
      "*       *\n"
     ]
    }
   ],
   "source": [
    "#modified to letter H\n",
    "n = int(input(\"Enter number of lines: \"))\n",
    "\n",
    "if n < 3:\n",
    "    print(\"Number of lines should be at least 3.\")\n",
    "else:\n",
    "    x = 2 * n - 1  # Width of the letter\n",
    "    mid = n // 2  # This is where the horizontal line will be\n",
    "    \n",
    "    for i in range(n):\n",
    "        for j in range(x):\n",
    "            if j == 0 or j == x - 1:  # Vertical lines\n",
    "                print('*', end='')\n",
    "            elif i == mid:  # Horizontal line\n",
    "                print('*', end='')\n",
    "            else:\n",
    "                print(' ', end='')\n",
    "        print()"
   ]
  },
  {
   "cell_type": "code",
   "execution_count": 13,
   "id": "3929a3a1-eef7-4974-ba3b-96b724022314",
   "metadata": {},
   "outputs": [
    {
     "name": "stdin",
     "output_type": "stream",
     "text": [
      "Enter a string:  27 28 29 30 31 \n"
     ]
    },
    {
     "name": "stdout",
     "output_type": "stream",
     "text": [
      "abcde\n"
     ]
    }
   ],
   "source": [
    "#Team B prog 2 -morse code\n",
    "letters=[chr(i) for i in range(65,91)]\n",
    "letters.extend([chr(i) for i in range(97,123)])\n",
    "enc=[str(i) for i in range(1,len(letters)+1)]\n",
    "d={}\n",
    "for i in range(len(letters)):\n",
    "    d[letters[i]]=enc[i]\n",
    "    d[enc[i]]=letters[i]\n",
    "string1=input(\"Enter a string: \")\n",
    "string2=''\n",
    "if string1.isalpha():\n",
    "    for i in string1:\n",
    "        string2+=str(d[i])+' '\n",
    "else:\n",
    "    l=string1.split()\n",
    "    for i in l:\n",
    "        string2+=d[i]\n",
    "print(string2)\n",
    "    "
   ]
  },
  {
   "cell_type": "code",
   "execution_count": 20,
   "id": "b42277bf-b89a-4601-ae89-bf4e2f7a26f9",
   "metadata": {},
   "outputs": [
    {
     "name": "stdout",
     "output_type": "stream",
     "text": [
      "***\n",
      "**\n",
      "**\n",
      "**\n",
      "***\n"
     ]
    }
   ],
   "source": [
    " for i in range(5):\n",
    "        for j in range(5):\n",
    "            # Print '*' in the first and last column\n",
    "            # Print '*' in the diagonal\n",
    "            if j == 0 or j == 5 - 1 or j == i:\n",
    "                print('*', end='')\n",
    "            else:\n",
    "                print(' ', end='')\n",
    "        print() "
   ]
  },
  {
   "cell_type": "code",
   "execution_count": 24,
   "id": "b5aa74c8-7dd7-4ba8-9577-55b8a1ed3cf4",
   "metadata": {},
   "outputs": [
    {
     "name": "stdin",
     "output_type": "stream",
     "text": [
      "Enter the number of lines:  20\n"
     ]
    },
    {
     "name": "stdout",
     "output_type": "stream",
     "text": [
      "******************* ********************\n",
      "****************** * *******************\n",
      "***************** *** ******************\n",
      "**************** ***** *****************\n",
      "*************** ******* ****************\n",
      "************** ********* ***************\n",
      "************* *********** **************\n",
      "************ ************* *************\n",
      "*********** *************** ************\n",
      "********** ***************** ***********\n",
      "*********                     **********\n",
      "******** ********************* *********\n",
      "******* *********************** ********\n",
      "****** ************************* *******\n",
      "***** *************************** ******\n",
      "**** ***************************** *****\n",
      "*** ******************************* ****\n",
      "** ********************************* ***\n",
      "* *********************************** **\n",
      " ************************************* *\n",
      "*****************************************\n"
     ]
    }
   ],
   "source": [
    "#Team C prog 1 - Letter pattern (A) square\n",
    "n = int(input(\"Enter the number of lines: \"))\n",
    "if n < 3:\n",
    "    print(\"Number of lines should be at least 3.\")\n",
    "else:\n",
    "    width = 2 * n - 1\n",
    "        \n",
    "    for i in range(n):\n",
    "        for j in range(width+1):\n",
    "            if j == n - i - 1 or j == n + i - 1 or (i == n // 2 and j > n - i - 1 and j < n + i - 1):\n",
    "                print(' ', end='')\n",
    "            else:\n",
    "                print('*', end='')\n",
    "        print()\n",
    "print(\"*\"*(2*n+1))"
   ]
  },
  {
   "cell_type": "code",
   "execution_count": 6,
   "id": "a987ef9e-83f8-4248-90c3-83ea05847d6d",
   "metadata": {},
   "outputs": [
    {
     "name": "stdout",
     "output_type": "stream",
     "text": [
      "{'fruits': ['pineapple', 'apple', 'oranges'], 'veg': ['potato', 'onion', 'tomato', 'capsicum']}\n"
     ]
    }
   ],
   "source": [
    "#combining dicts and eliminating duplicates\n",
    "dict1={'fruits1':'apple','fruits2':'oranges','veg1':'onion','veg2':'tomato'}\n",
    "dict2={'fruits1':'apple','fruits2':'pineapple','veg1':'potato','veg2':'capsicum'}\n",
    "keys=list(dict1.keys())+list(dict2.keys())\n",
    "fruits=[]\n",
    "veg=[]\n",
    "for i in keys:\n",
    "    if 'fruits' in i:\n",
    "        fruits.append(dict1[i])\n",
    "        fruits.append(dict2[i])\n",
    "    else:\n",
    "        veg.append(dict1[i])\n",
    "        veg.append(dict2[i])\n",
    "fruits=list(set(fruits))\n",
    "veg=list(set(veg))\n",
    "d2={}\n",
    "d2['fruits']=fruits\n",
    "d2['veg']=veg\n",
    "print(d2)\n"
   ]
  },
  {
   "cell_type": "code",
   "execution_count": 33,
   "id": "3bf1075e-1b62-4662-a33a-3e82043f5638",
   "metadata": {},
   "outputs": [
    {
     "name": "stdout",
     "output_type": "stream",
     "text": [
      "{'chennai': 3, 'bglr': 2, 'delhi': 1, 'mumbai': 4}\n"
     ]
    }
   ],
   "source": [
    "#combining dicts and shuffling the values at each run\n",
    "import random\n",
    "input_dict={'chennai':1,'bglr':2,'delhi':3,'mumbai':4}\n",
    "keys=list(input_dict.keys())\n",
    "values=list(input_dict.values())\n",
    "random.shuffle(keys)\n",
    "random.shuffle(values)\n",
    "for i in range(len(keys)):\n",
    "    input_dict[keys[i]]=values[i]\n",
    "print(input_dict)"
   ]
  },
  {
   "cell_type": "code",
   "execution_count": null,
   "id": "a006db86-dc72-436b-ad17-7759a48eb7fd",
   "metadata": {},
   "outputs": [],
   "source": []
  },
  {
   "cell_type": "code",
   "execution_count": null,
   "id": "b5cc519b-8626-447c-b8a5-73b1abcc81d1",
   "metadata": {},
   "outputs": [],
   "source": []
  }
 ],
 "metadata": {
  "kernelspec": {
   "display_name": "Python 3 (ipykernel)",
   "language": "python",
   "name": "python3"
  },
  "language_info": {
   "codemirror_mode": {
    "name": "ipython",
    "version": 3
   },
   "file_extension": ".py",
   "mimetype": "text/x-python",
   "name": "python",
   "nbconvert_exporter": "python",
   "pygments_lexer": "ipython3",
   "version": "3.12.5"
  }
 },
 "nbformat": 4,
 "nbformat_minor": 5
}
