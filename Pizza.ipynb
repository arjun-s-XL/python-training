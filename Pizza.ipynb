{
 "cells": [
  {
   "cell_type": "markdown",
   "id": "d4783593-3793-4767-9fb5-707bd038a2ee",
   "metadata": {},
   "source": [
    "Given two stacks of pizzas such that each contains 10 pizzas of varying radii. Geek can only eat a pizza from a stack if it is also present in the other stack, in the same order. The pizzas that he selects need not be continuous. Find the number of pizzas Geek can eat.\n",
    "\n",
    " \n",
    "\n",
    "Example 1:\n",
    "\n",
    "Input:\n",
    "Stack1 = {891 424 945 741 897 514 692 221 678 168}\n",
    "Stack2 = {702 952 221 614 69 753 821 971 318 364}\n",
    "Output: 1\n",
    "Explanation: There is only one common element."
   ]
  },
  {
   "cell_type": "code",
   "execution_count": 7,
   "id": "51b1e429-1541-4aa4-afc1-df1377b48ea2",
   "metadata": {},
   "outputs": [],
   "source": [
    "def common(stack1,stack2):\n",
    "    com=[i for i in stack1 if i in stack2]\n",
    "    com2=[i for i in stack2 if i in stack1]\n",
    "    if com==com2:\n",
    "        return len(com)\n",
    "    return False"
   ]
  },
  {
   "cell_type": "code",
   "execution_count": 8,
   "id": "3bec1200-62ee-4f2e-84c4-d4c3ccc879de",
   "metadata": {},
   "outputs": [
    {
     "data": {
      "text/plain": [
       "1"
      ]
     },
     "execution_count": 8,
     "metadata": {},
     "output_type": "execute_result"
    }
   ],
   "source": [
    "Stack1 = [891, 424, 945, 741, 897, 514, 692, 221, 678, 168]\n",
    "Stack2 = [702, 952, 221, 614, 69, 753, 821, 971, 318, 364]\n",
    "common(Stack1,Stack2)"
   ]
  },
  {
   "cell_type": "code",
   "execution_count": 9,
   "id": "678d5028-04c7-4b16-add5-5a0d54584ed4",
   "metadata": {},
   "outputs": [
    {
     "data": {
      "text/plain": [
       "False"
      ]
     },
     "execution_count": 9,
     "metadata": {},
     "output_type": "execute_result"
    }
   ],
   "source": [
    "Stack1=[2,7,1,15,15,9,6,14,15,10]\n",
    "Stack2=[1,6,14,15,15,15,7,9,2,10]\n",
    "common(Stack1,Stack2)"
   ]
  },
  {
   "cell_type": "code",
   "execution_count": 23,
   "id": "c9d4e235-55a1-48e3-8a48-28a9389edf11",
   "metadata": {},
   "outputs": [
    {
     "data": {
      "text/plain": [
       "[2, 7, 1, 15, 15, 9, 6, 14, 15, 10]"
      ]
     },
     "execution_count": 23,
     "metadata": {},
     "output_type": "execute_result"
    }
   ],
   "source": [
    "com1=[i for i in Stack1 if i in Stack2]\n",
    "com1"
   ]
  },
  {
   "cell_type": "code",
   "execution_count": 24,
   "id": "a26cdcbd-24cb-465f-b4f3-86e7aeb6e6eb",
   "metadata": {},
   "outputs": [
    {
     "data": {
      "text/plain": [
       "[1, 6, 14, 15, 15, 15, 7, 9, 2, 10]"
      ]
     },
     "execution_count": 24,
     "metadata": {},
     "output_type": "execute_result"
    }
   ],
   "source": [
    "com2=[i for i in Stack2 if i in Stack1]\n",
    "com2"
   ]
  },
  {
   "cell_type": "code",
   "execution_count": 27,
   "id": "f56429af-4813-4387-b6d7-0445e1f6911d",
   "metadata": {},
   "outputs": [
    {
     "name": "stdout",
     "output_type": "stream",
     "text": [
      "1\n"
     ]
    }
   ],
   "source": [
    "def count_common_pizzas(stack1, stack2):\n",
    "    set1 = set(stack1)\n",
    "    set2 = set(stack2)\n",
    "    common_elements = set1.intersection(set2)\n",
    "    \n",
    "    index_map = {value: idx for idx, value in enumerate(stack2) if value in common_elements}\n",
    "    \n",
    "    last_index = -1\n",
    "    count = 0\n",
    "    \n",
    "    for pizza in stack1:\n",
    "        if pizza in common_elements:\n",
    "            current_index = index_map[pizza]\n",
    "            if current_index > last_index:\n",
    "                last_index = current_index\n",
    "                count += 1\n",
    "    \n",
    "    return count\n",
    "\n",
    "stack1 = [891, 424, 945, 741, 897, 514, 692, 221, 678, 168]\n",
    "stack2 = [702, 952, 221, 614, 69, 753, 821, 971, 318, 364]\n",
    "\n",
    "print(count_common_pizzas(stack1, stack2)) \n"
   ]
  },
  {
   "cell_type": "code",
   "execution_count": null,
   "id": "384d3e83-9169-4c40-824e-035a8784fc31",
   "metadata": {},
   "outputs": [],
   "source": []
  }
 ],
 "metadata": {
  "kernelspec": {
   "display_name": "Python 3 (ipykernel)",
   "language": "python",
   "name": "python3"
  },
  "language_info": {
   "codemirror_mode": {
    "name": "ipython",
    "version": 3
   },
   "file_extension": ".py",
   "mimetype": "text/x-python",
   "name": "python",
   "nbconvert_exporter": "python",
   "pygments_lexer": "ipython3",
   "version": "3.12.5"
  }
 },
 "nbformat": 4,
 "nbformat_minor": 5
}
