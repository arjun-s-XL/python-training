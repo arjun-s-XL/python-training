{
 "cells": [
  {
   "cell_type": "code",
   "execution_count": 27,
   "id": "dbe4d645-7b39-4967-b211-9768c357d206",
   "metadata": {},
   "outputs": [
    {
     "name": "stdout",
     "output_type": "stream",
     "text": [
      "{'car': {'name': 'swift', 'year': '2020', 'color': ['white', 'black']}, 'bus': {'name': 'volvo', 'year': '2010', 'color': ['white', 'brown']}}\n"
     ]
    },
    {
     "data": {
      "text/plain": [
       "{'car': {'name': 'swift', 'year': '2020', 'color': ['white', 'black']},\n",
       " 'bus': {'name': 'volvo', 'year': '2010', 'color': ['white', 'brown']},\n",
       " 'truck': {'name': 'mercedes', 'year': '2022', 'color': ['white', 'yellow']}}"
      ]
     },
     "execution_count": 27,
     "metadata": {},
     "output_type": "execute_result"
    }
   ],
   "source": [
    "#Program1 - Updating a nested dictionary\n",
    "data={'car':{'name':'swift',\n",
    "             'year':'2020',\n",
    "              'color':['white','black']\n",
    "            },\n",
    "      'bus':{'name':'volvo',\n",
    "             'year':'2010',\n",
    "              'color':['white','brown']\n",
    "            }\n",
    "     }\n",
    "print(data)\n",
    "data['truck']={'name':'mercedes',\n",
    "             'year':'2022',\n",
    "              'color':[]\n",
    "            }       \n",
    "data['truck']['color'].extend(['white','yellow'])\n",
    "data"
   ]
  },
  {
   "cell_type": "code",
   "execution_count": 28,
   "id": "7a519b56-14d3-427d-be1d-65747b434b0c",
   "metadata": {},
   "outputs": [
    {
     "name": "stdout",
     "output_type": "stream",
     "text": [
      "{\n",
      "    \"car\": {\n",
      "        \"name\": \"swift\",\n",
      "        \"year\": \"2020\",\n",
      "        \"color\": [\n",
      "            \"white\",\n",
      "            \"black\"\n",
      "        ]\n",
      "    },\n",
      "    \"bus\": {\n",
      "        \"name\": \"volvo\",\n",
      "        \"year\": \"2010\",\n",
      "        \"color\": [\n",
      "            \"white\",\n",
      "            \"brown\"\n",
      "        ]\n",
      "    },\n",
      "    \"truck\": {\n",
      "        \"name\": \"mercedes\",\n",
      "        \"year\": \"2022\",\n",
      "        \"color\": [\n",
      "            \"white\",\n",
      "            \"yellow\"\n",
      "        ]\n",
      "    }\n",
      "}\n"
     ]
    }
   ],
   "source": [
    "import json\n",
    "print(json.dumps(data,indent=4))"
   ]
  },
  {
   "cell_type": "code",
   "execution_count": 30,
   "id": "df00d760-ff93-4747-ba4e-59a813faeea7",
   "metadata": {},
   "outputs": [
    {
     "name": "stdout",
     "output_type": "stream",
     "text": [
      "{'swift': '2011', 'zen': '2012', 'baleno': '2013'}\n"
     ]
    }
   ],
   "source": [
    "#Program 2 - mapping two lists into dictionaries\n",
    "name=['swift','zen','baleno']\n",
    "model=['2011','2012','2013']\n",
    "d={}\n",
    "for i in range(len(name)):\n",
    "    d[name[i]]=model[i]\n",
    "print(d)"
   ]
  },
  {
   "cell_type": "code",
   "execution_count": 31,
   "id": "74fcd327-498f-4024-841c-2a4bb091e20a",
   "metadata": {},
   "outputs": [
    {
     "name": "stdout",
     "output_type": "stream",
     "text": [
      "{'A': {'w': 5, 'x': 5}, 'B': {'y': 5}, 'C': {'z': 5}}\n"
     ]
    }
   ],
   "source": [
    "#Program 3 - combining and adding\n",
    "data1={'A':{'w':1,'x':2},\n",
    "       'B':{'y':4},\n",
    "       'C':{'z':5}\n",
    "      }\n",
    "\n",
    "data2={'A':{'w':4,'x':3},\n",
    "       'B':{'y':1},\n",
    "       'C':{'z':0}\n",
    "      }\n",
    "\n",
    "keys=list(data1.keys())\n",
    "\n",
    "new_data={}\n",
    "\n",
    "for i in keys:\n",
    "    inner_dict={}\n",
    "    for j in list(data1[i].keys()):\n",
    "        inner_dict[j]=data1[i][j]+data2[i][j]\n",
    "    new_data[i]=inner_dict\n",
    "print(new_data)\n",
    "        "
   ]
  },
  {
   "cell_type": "code",
   "execution_count": 36,
   "id": "6a2a819d-b569-491a-9996-0ba098fd251b",
   "metadata": {},
   "outputs": [
    {
     "name": "stdout",
     "output_type": "stream",
     "text": [
      "27\n"
     ]
    }
   ],
   "source": [
    "#Program 4 - Write a function that sums all integer values in a nested dictionary, regardless of the depth\n",
    "mixed_dict = {\n",
    "    \"key1\": 5,\n",
    "    \"key2\": {\"key3\": 3, \"key4\": {\"key5\": 7, \"key6\": 10}},\n",
    "    \"key7\": 2,\n",
    "}\n",
    "\n",
    "def add(input):\n",
    "    sum1=0\n",
    "    if type(input)==int:\n",
    "        sum1+=input\n",
    "    elif type(input)==list:\n",
    "        sum1+=sum(input)\n",
    "    elif type(input)==dict:\n",
    "        for i in input.values():\n",
    "            sum1+=add(i)\n",
    "    return sum1\n",
    "\n",
    "print(add(mixed_dict))"
   ]
  },
  {
   "cell_type": "code",
   "execution_count": 43,
   "id": "9e562932-063a-45ff-ae1f-18f911ad7727",
   "metadata": {},
   "outputs": [
    {
     "name": "stdout",
     "output_type": "stream",
     "text": [
      "{'A': {'C': 10}, 'D': {'E': 6, 'F': {'G': 12}}, 'I': 7}\n"
     ]
    }
   ],
   "source": [
    "#5. Write a function that filters a nested dictionary keep only the entries where the value is greater than 5.\n",
    "nested_dict = {\n",
    "    'A': {'B': 4, 'C': 10},\n",
    "    'D': {'E': 6, 'F': {'G': 12, 'H': 3}},\n",
    "    'I': 7\n",
    "}\n",
    "\n",
    "def filter_dict(input_dict):\n",
    "    output_dict = {}\n",
    "    for key, value in input_dict.items():\n",
    "        if type(value) is dict:\n",
    "            filtered_value = filter_dict(value)\n",
    "            if filtered_value: \n",
    "                output_dict[key] = filtered_value\n",
    "        elif type(value) is int and value > 5:\n",
    "            output_dict[key] = value\n",
    "    \n",
    "    return output_dict\n",
    "\n",
    "new_dict = filter_dict(nested_dict)\n",
    "print(new_dict)\n",
    "            "
   ]
  },
  {
   "cell_type": "code",
   "execution_count": 51,
   "id": "78f8cbb6-d63b-4503-8df5-a9167b667c0c",
   "metadata": {},
   "outputs": [
    {
     "name": "stdout",
     "output_type": "stream",
     "text": [
      "{'D': [3, 7], 'A': [{'B': 1, 'C': 2}, {'B': 5, 'C': 6}], 'E': [{'F': 4}, {'G': 8}]}\n"
     ]
    }
   ],
   "source": [
    "def merge_dicts(dict1, dict2):\n",
    "    merged = {}\n",
    "\n",
    "    all_keys = set(dict1.keys()).union(dict2.keys())\n",
    "    \n",
    "    for key in all_keys:\n",
    "        val1 = dict1.get(key, [])\n",
    "        val2 = dict2.get(key, [])\n",
    "        \n",
    "        if key in dict1 and key in dict2:\n",
    "            if type(val1) is list and type(val2) is list:\n",
    "                merged[key] = val1 + val2\n",
    "            else:\n",
    "                merged[key] = [val1] + [val2]\n",
    "        elif key in dict1:\n",
    "            merged[key] = val1\n",
    "        else:\n",
    "            merged[key] = val2\n",
    "    \n",
    "    return merged\n",
    "\n",
    "dict1 = {'A': {'B': 1, 'C': 2}, 'D': 3, 'E': {'F': 4}}\n",
    "dict2 = {'A': {'B': 5, 'C': 6}, 'D': 7, 'E': {'G': 8}}\n",
    "\n",
    "result = merge_dicts(dict1, dict2)\n",
    "print(result)\n"
   ]
  },
  {
   "cell_type": "code",
   "execution_count": 57,
   "id": "2a8495f4-3f34-4149-b100-2b0601f50811",
   "metadata": {},
   "outputs": [
    {
     "name": "stdout",
     "output_type": "stream",
     "text": [
      "{'A': {'B': [1, 5], 'C': [2, 6]}, 'D': [3, 7], 'E': {'F': 4, 'G': 8}}\n"
     ]
    }
   ],
   "source": [
    "def merge(d1, d2):\n",
    "        result = d1.copy()\n",
    "\n",
    "        for key, value in d2.items():\n",
    "            if key in result:\n",
    "                if type(result[key]) == dict and type(value) == dict:\n",
    "                    result[key] = merge(result[key], value)\n",
    "                else:\n",
    "                    if type(result[key]) == list:\n",
    "                        result[key].append(value)\n",
    "                    elif result[key] == value:\n",
    "                        continue\n",
    "                    else:\n",
    "                        result[key] = [result[key], value]\n",
    "            else:\n",
    "                result[key] = value\n",
    "\n",
    "        return result\n",
    "    \n",
    "dict1 = {'A': {'B': 1, 'C': 2}, 'D': 3, 'E': {'F': 4}}\n",
    "dict2 = {'A': {'B': 5, 'C': 6}, 'D': 7, 'E': {'G': 8}}\n",
    "\n",
    "result = merge(dict1, dict2)\n",
    "print(result)\n"
   ]
  },
  {
   "cell_type": "code",
   "execution_count": 64,
   "id": "375f4a53-e5ba-428b-9dc7-934671938225",
   "metadata": {},
   "outputs": [
    {
     "name": "stdout",
     "output_type": "stream",
     "text": [
      "Name: ABC\n",
      "Age: 30\n",
      "Salary: INR50000\n",
      "Position: Associate Software Engineer\n",
      "ABC promoted to Senior Software Engineer.\n",
      "ABC's salary increased by $5000.\n",
      "New salary: $55000.\n",
      "Name: ABC\n",
      "Age: 30\n",
      "Salary: INR55000\n",
      "Position: Senior Software Engineer\n"
     ]
    }
   ],
   "source": [
    "''' Create an Employee class that includes attributes like name, age, salary, and position. Add methods to promote, give_raise, and display_employee_info.\n",
    "Requirements:\n",
    "promote(new_position): Updates the employee's position.\n",
    "give_raise(amount): Increases the employee's salary.\n",
    "display_employee_info(): Prints all the employee's details.'''\n",
    "\n",
    "class Employee:\n",
    "    def __init__(self, name, age, salary, position):\n",
    "        self.name = name\n",
    "        self.age = age\n",
    "        self.salary = salary\n",
    "        self.position = position\n",
    "    \n",
    "    def promote(self, new_position):\n",
    "        self.position = new_position\n",
    "        print(f\"{self.name} promoted to {self.position}.\")\n",
    "    \n",
    "    def give_raise(self, amount):\n",
    "        if amount > 0:\n",
    "            self.salary += amount\n",
    "            print(f\"{self.name}'s salary increased by ${amount}.\")\n",
    "            print(f\"New salary: ${self.salary}.\")\n",
    "        else:\n",
    "            print(\"Raise amount cannto be negative.\")\n",
    "    \n",
    "    def display_employee_info(self):\n",
    "        info = (f\"Name: {self.name}\\n\"\n",
    "                f\"Age: {self.age}\\n\"\n",
    "                f\"Salary: INR{self.salary}\\n\"\n",
    "                f\"Position: {self.position}\")\n",
    "        print(info)\n",
    "\n",
    "\n",
    "emp = Employee(\"ABC\", 30, 50000, \"Associate Software Engineer\")\n",
    "emp.display_employee_info()\n",
    "emp.promote(\"Senior Software Engineer\")\n",
    "emp.give_raise(5000)\n",
    "emp.display_employee_info()\n"
   ]
  },
  {
   "cell_type": "code",
   "execution_count": 65,
   "id": "224485c9-7f2c-41fb-a039-bd7ae159ec0b",
   "metadata": {},
   "outputs": [
    {
     "name": "stdout",
     "output_type": "stream",
     "text": [
      "Name: ABC\n",
      "Age: 30\n",
      "Salary: $50000\n",
      "Position: Associate Software Engineer\n",
      "ABC promoted to Senior Software Engineer.\n",
      "ABC's salary increased by $5000.\n",
      "New salary: $55000.\n",
      "Name: ABC\n",
      "Age: 30\n",
      "Salary: $55000\n",
      "Position: Senior Software Engineer\n"
     ]
    }
   ],
   "source": [
    "class Employee:\n",
    "    def set_details(self, name, age, salary, position):\n",
    "        self.name = name\n",
    "        self.age = age\n",
    "        self.salary = salary\n",
    "        self.position = position\n",
    "    \n",
    "    def promote(self, new_position):\n",
    "        self.position = new_position\n",
    "        print(f\"{self.name} promoted to {self.position}.\")\n",
    "    \n",
    "    def give_raise(self, amount):\n",
    "        if amount > 0:\n",
    "            self.salary += amount\n",
    "            print(f\"{self.name}'s salary increased by ${amount}.\")\n",
    "            print(f\"New salary: ${self.salary}.\")\n",
    "        else:\n",
    "            print(\"Raise amount cannot be negative.\")\n",
    "    \n",
    "    def display_employee_info(self):\n",
    "        info = (f\"Name: {self.name}\\n\"\n",
    "                f\"Age: {self.age}\\n\"\n",
    "                f\"Salary: ${self.salary}\\n\"\n",
    "                f\"Position: {self.position}\")\n",
    "        print(info)\n",
    "\n",
    "\n",
    "emp = Employee()\n",
    "\n",
    "emp.set_details(\"ABC\", 30, 50000, \"Associate Software Engineer\")\n",
    "\n",
    "# Display employee info, promote, give raise, and display info again\n",
    "emp.display_employee_info()\n",
    "emp.promote(\"Senior Software Engineer\")\n",
    "emp.give_raise(5000)\n",
    "emp.display_employee_info()\n"
   ]
  },
  {
   "cell_type": "code",
   "execution_count": null,
   "id": "fbe57f31-fd6f-44d4-a66d-5966b637cdc8",
   "metadata": {},
   "outputs": [],
   "source": []
  }
 ],
 "metadata": {
  "kernelspec": {
   "display_name": "Python 3 (ipykernel)",
   "language": "python",
   "name": "python3"
  },
  "language_info": {
   "codemirror_mode": {
    "name": "ipython",
    "version": 3
   },
   "file_extension": ".py",
   "mimetype": "text/x-python",
   "name": "python",
   "nbconvert_exporter": "python",
   "pygments_lexer": "ipython3",
   "version": "3.12.5"
  }
 },
 "nbformat": 4,
 "nbformat_minor": 5
}
