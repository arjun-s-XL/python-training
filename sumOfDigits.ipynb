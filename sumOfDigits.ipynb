{
 "cells": [
  {
   "cell_type": "code",
   "execution_count": 8,
   "id": "cb91c588-eb18-4ed2-86cf-361e3ed7ca23",
   "metadata": {},
   "outputs": [
    {
     "name": "stdout",
     "output_type": "stream",
     "text": [
      "6\n"
     ]
    }
   ],
   "source": [
    "def sum_of_digits(i):\n",
    "    sod=0\n",
    "    i=abs(i)\n",
    "    while i>=1:\n",
    "        sod+=i%10\n",
    "        i//=10\n",
    "    return sod\n",
    "\n",
    "\n",
    "print(sum_of_digits(321))"
   ]
  },
  {
   "cell_type": "code",
   "execution_count": 10,
   "id": "f317e28d-582f-4f92-b6fe-6d00f3a75bed",
   "metadata": {},
   "outputs": [
    {
     "name": "stdout",
     "output_type": "stream",
     "text": [
      "[1, 4, 6, 9, 2]\n"
     ]
    }
   ],
   "source": [
    "l=[10,-121,42,63,-20]\n",
    "new_l=[sum_of_digits(i) for i in l]\n",
    "print(new_l)"
   ]
  },
  {
   "cell_type": "code",
   "execution_count": 17,
   "id": "e4157d03-3668-4940-8dfc-26aa9af7d492",
   "metadata": {},
   "outputs": [
    {
     "name": "stdout",
     "output_type": "stream",
     "text": [
      "{1: None}\n"
     ]
    }
   ],
   "source": [
    "lb=0\n",
    "ub=2\n",
    "l1=[i for i in range(lb,ub) if i%2!=0]\n",
    "l2=[i for i in range(lb,ub) if i not in l1]\n",
    "d=dict.fromkeys(l1)\n",
    "for i in l1:\n",
    "    if i+1 in l2:\n",
    "        d[i]=i+1\n",
    "print(d)"
   ]
  },
  {
   "cell_type": "code",
   "execution_count": null,
   "id": "4daca393-d058-4ed4-bfee-e106576c94d8",
   "metadata": {},
   "outputs": [],
   "source": []
  }
 ],
 "metadata": {
  "kernelspec": {
   "display_name": "Python 3 (ipykernel)",
   "language": "python",
   "name": "python3"
  },
  "language_info": {
   "codemirror_mode": {
    "name": "ipython",
    "version": 3
   },
   "file_extension": ".py",
   "mimetype": "text/x-python",
   "name": "python",
   "nbconvert_exporter": "python",
   "pygments_lexer": "ipython3",
   "version": "3.12.5"
  }
 },
 "nbformat": 4,
 "nbformat_minor": 5
}
