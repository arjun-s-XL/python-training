{
 "cells": [
  {
   "cell_type": "code",
   "execution_count": 52,
   "id": "8d737773-dbf5-4267-aa88-9bbe07d1ed45",
   "metadata": {},
   "outputs": [],
   "source": [
    "file=open(\"logfile.txt\",'r')\n",
    "lines=file.readlines()"
   ]
  },
  {
   "cell_type": "code",
   "execution_count": 53,
   "id": "e0fcce7c-00bb-46a0-b3cb-656edcf7e63e",
   "metadata": {},
   "outputs": [
    {
     "name": "stdout",
     "output_type": "stream",
     "text": [
      "50\n",
      "44\n",
      "56\n",
      "46\n",
      "54\n"
     ]
    }
   ],
   "source": [
    "for i in lines:\n",
    "    print(len(i))"
   ]
  },
  {
   "cell_type": "code",
   "execution_count": 54,
   "id": "93691dc9-b060-402b-932e-83acb774e0d6",
   "metadata": {},
   "outputs": [
    {
     "name": "stdout",
     "output_type": "stream",
     "text": [
      "6\n",
      "6\n",
      "8\n",
      "5\n",
      "6\n"
     ]
    }
   ],
   "source": [
    "for i in lines:\n",
    "    print(len(i.split()))"
   ]
  },
  {
   "cell_type": "code",
   "execution_count": 55,
   "id": "315e7e8b-3363-4f12-813c-1d9ecffb07dc",
   "metadata": {},
   "outputs": [
    {
     "name": "stdout",
     "output_type": "stream",
     "text": [
      "10:15:23\n",
      "10:16:45\n",
      "10:17:10\n",
      "10:20:00\n",
      "10:21:30\n"
     ]
    }
   ],
   "source": [
    "#print time stamp\n",
    "for i in lines:\n",
    "    print(i.split()[1])"
   ]
  },
  {
   "cell_type": "code",
   "execution_count": 56,
   "id": "4db9060f-35ad-4e4c-99a3-a2923c39fec5",
   "metadata": {},
   "outputs": [
    {
     "name": "stdin",
     "output_type": "stream",
     "text": [
      "enter a timestamp 10:17:10\n"
     ]
    },
    {
     "name": "stdout",
     "output_type": "stream",
     "text": [
      "ERROR Unable to connect to database\n"
     ]
    }
   ],
   "source": [
    "#Given a timestamp print the corresponding error message\n",
    "time=input(\"enter a timestamp\")\n",
    "errors=[i.split()[2:] for i in lines]\n",
    "d={}\n",
    "timestamps=[i.split()[1] for i in lines]\n",
    "d=dict.fromkeys(timestamps)\n",
    "keys=list(d.keys())\n",
    "for i in range(len(keys)):\n",
    "    d[keys[i]]=errors[i]\n",
    "print(' '.join(d[time]))"
   ]
  },
  {
   "cell_type": "code",
   "execution_count": 51,
   "id": "3c784298-61dd-46cb-9d0e-689ead9b68de",
   "metadata": {},
   "outputs": [
    {
     "data": {
      "text/plain": [
       "{'WARN': ['2024-08-25 10:16:45 WARN Low memory warning\\n'],\n",
       " 'INFO': ['2024-08-25 10:15:23 INFO Starting the application\\n',\n",
       "  '2024-08-25 10:20:00 INFO Application shutdown\\n',\n",
       "  '2024-08-25 10:21:30 INFO Backup completed successfully'],\n",
       " 'ERROR': ['2024-08-25 10:17:10 ERROR Unable to connect to database\\n']}"
      ]
     },
     "execution_count": 51,
     "metadata": {},
     "output_type": "execute_result"
    }
   ],
   "source": [
    "#create a dictionary that has keys INFO, WARN and ERROR and the values that are corresponding log files containing these as error messages\n",
    "msgs=list(set([i.split()[2] for i in lines]))\n",
    "d=dict.fromkeys(msgs)\n",
    "list_of_msgs=[]\n",
    "for i in msgs:\n",
    "    inner_l=[line for line in lines if i in line]\n",
    "    list_of_msgs.append(inner_l)\n",
    "for i in range(len(msgs)):\n",
    "    d[msgs[i]]=list_of_msgs[i]\n",
    "d"
   ]
  }
 ],
 "metadata": {
  "kernelspec": {
   "display_name": "Python 3 (ipykernel)",
   "language": "python",
   "name": "python3"
  },
  "language_info": {
   "codemirror_mode": {
    "name": "ipython",
    "version": 3
   },
   "file_extension": ".py",
   "mimetype": "text/x-python",
   "name": "python",
   "nbconvert_exporter": "python",
   "pygments_lexer": "ipython3",
   "version": "3.12.5"
  }
 },
 "nbformat": 4,
 "nbformat_minor": 5
}
