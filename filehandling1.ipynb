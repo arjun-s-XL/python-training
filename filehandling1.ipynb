{
 "cells": [
  {
   "cell_type": "code",
   "execution_count": 26,
   "id": "a9d36565-e0db-4841-89e6-108edc3d7261",
   "metadata": {},
   "outputs": [
    {
     "name": "stdout",
     "output_type": "stream",
     "text": [
      "5\n"
     ]
    }
   ],
   "source": [
    "file=open(\"file.txt\",'r')\n",
    "lines=file.readlines()\n",
    "print(len(lines))"
   ]
  },
  {
   "cell_type": "code",
   "execution_count": 27,
   "id": "684cb8d9-8e23-4be4-934b-2aebe9d62003",
   "metadata": {},
   "outputs": [
    {
     "data": {
      "text/plain": [
       "['2024-08-25 10:15:23 INFO Starting the application\\n',\n",
       " '2024-08-25 10:16:45 WARN Low memory warning\\n',\n",
       " '2024-08-25 10:17:10 ERROR Unable to connect to database\\n',\n",
       " '2024-08-25 10:20:00 INFO Application shutdown\\n',\n",
       " '2024-08-25 10:21:30 INFO Backup completed successfully']"
      ]
     },
     "execution_count": 27,
     "metadata": {},
     "output_type": "execute_result"
    }
   ],
   "source": [
    "lines"
   ]
  },
  {
   "cell_type": "code",
   "execution_count": null,
   "id": "35458a21-a8e8-449f-b239-bdfdf7277fe1",
   "metadata": {},
   "outputs": [],
   "source": []
  }
 ],
 "metadata": {
  "kernelspec": {
   "display_name": "Python 3 (ipykernel)",
   "language": "python",
   "name": "python3"
  },
  "language_info": {
   "codemirror_mode": {
    "name": "ipython",
    "version": 3
   },
   "file_extension": ".py",
   "mimetype": "text/x-python",
   "name": "python",
   "nbconvert_exporter": "python",
   "pygments_lexer": "ipython3",
   "version": "3.12.5"
  }
 },
 "nbformat": 4,
 "nbformat_minor": 5
}
