{
 "cells": [
  {
   "cell_type": "code",
   "execution_count": 1,
   "id": "25d96719-6edd-4739-9415-b9f42c591b65",
   "metadata": {},
   "outputs": [],
   "source": [
    "sentences = [ \"The quick brown fox jumps over the lazy dog.\",\n",
    "             \"Hello, world!\", \"Python programming is fun.\", \n",
    "             \"AI can be transformative.\", \n",
    "             \"Data science and machine learning.\", \n",
    "             \"Good morning!\", \n",
    "             \"ChatGPT is an advanced AI model.\", \n",
    "             \"Machine learning requires a lot of data.\", \n",
    "             \"Coding can be challenging but rewarding.\", \n",
    "             \"Practice makes perfect!\" ]"
   ]
  },
  {
   "cell_type": "code",
   "execution_count": 2,
   "id": "6c0e2166-b54e-4feb-9aed-05ade9e1d14a",
   "metadata": {},
   "outputs": [
    {
     "name": "stdout",
     "output_type": "stream",
     "text": [
      "[4103, 1161, 2520, 2310, 3162, 1220, 2741, 3714, 3749, 2182]\n"
     ]
    }
   ],
   "source": [
    "#Find the ASCII sum of each sentence and store it in a list\n",
    "ascii_sum=[]\n",
    "for i in sentences:\n",
    "    sum=0\n",
    "    for j in i:\n",
    "        sum+=ord(j)\n",
    "    ascii_sum.append(sum)\n",
    "print(ascii_sum)"
   ]
  },
  {
   "cell_type": "code",
   "execution_count": 12,
   "id": "27baec0e-231f-4515-aaae-954306cdd1b6",
   "metadata": {},
   "outputs": [
    {
     "name": "stdout",
     "output_type": "stream",
     "text": [
      "The quick brown fox jumps over the lazy dog.\n"
     ]
    }
   ],
   "source": [
    "#Find a pangram in the list\n",
    "def pangram(sent):\n",
    "    alphabets=[chr(i) for i in range(97,123)]\n",
    "    flag=False\n",
    "    sent=sent.lower()\n",
    "    list_of_letters=list(set([i for i in sent if i.isalpha()]))\n",
    "    for i in list_of_letters:\n",
    "        if i in alphabets:\n",
    "            alphabets.remove(i)\n",
    "    if len(alphabets)==0:\n",
    "        flag=True\n",
    "    return flag\n",
    "            \n",
    "for i in sentences:\n",
    "    if pangram(i):\n",
    "        print(i)"
   ]
  },
  {
   "cell_type": "code",
   "execution_count": null,
   "id": "ce3b0cfe-b02e-4e09-81f6-7bd40e2a51f8",
   "metadata": {},
   "outputs": [],
   "source": []
  }
 ],
 "metadata": {
  "kernelspec": {
   "display_name": "Python 3 (ipykernel)",
   "language": "python",
   "name": "python3"
  },
  "language_info": {
   "codemirror_mode": {
    "name": "ipython",
    "version": 3
   },
   "file_extension": ".py",
   "mimetype": "text/x-python",
   "name": "python",
   "nbconvert_exporter": "python",
   "pygments_lexer": "ipython3",
   "version": "3.12.5"
  }
 },
 "nbformat": 4,
 "nbformat_minor": 5
}
