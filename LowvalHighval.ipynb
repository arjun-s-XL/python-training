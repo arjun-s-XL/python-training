{
 "cells": [
  {
   "cell_type": "markdown",
   "id": "38f458c7-c7b5-434b-9e79-26a14483d1e2",
   "metadata": {},
   "source": [
    "Given an array and a range [lowVal, highVal], partition the array around the range such that array is divided in three parts. 1) All elements smaller than lowVal come first. 2) All elements in range lowVal to highVal come next. 3) All elements greater than highVal appear in the end. The individual elements of three sets can appear in any order. Examples:Input: arr = [1, 14, 5, 20, 4, 2, 54, 20, 87, 98, 3, 1, 32]  \n",
    "        lowVal = 14, highVal = 20\n",
    "Output: arr = [1, 5, 4, 2, 3, 1, 14, 20, 20, 54, 87, 98, 32]\n",
    "\n",
    "Input: arr = [1, 14, 5, 20, 4, 2, 54, 20, 87, 98, 3, 1, 32]  \n",
    "       lowVal = 20, highVal = 20       \n",
    "Output: arr = [1, 14, 5, 4, 2, 3, 1, 20, 20, 54, 87, 98, 32]"
   ]
  },
  {
   "cell_type": "code",
   "execution_count": 2,
   "id": "79fa1f21-a344-466d-a1dc-0b5a26db693d",
   "metadata": {},
   "outputs": [
    {
     "name": "stdout",
     "output_type": "stream",
     "text": [
      "[1, 5, 4, 2, 3, 1, 14, 20, 20, 54, 87, 98, 32]\n",
      "[1, 14, 5, 4, 2, 3, 1, 20, 20, 54, 87, 98, 32]\n"
     ]
    }
   ],
   "source": [
    "def partition_array(arr, lowVal, highVal):\n",
    "    # Lists to hold the partitions\n",
    "    less = []\n",
    "    middle = []\n",
    "    greater = []\n",
    "    \n",
    "    for num in arr:\n",
    "        if num < lowVal:\n",
    "            less.append(num)\n",
    "        elif lowVal <= num <= highVal:\n",
    "            middle.append(num)\n",
    "        else:\n",
    "            greater.append(num)\n",
    "    \n",
    "    return less + middle + greater\n",
    "\n",
    "arr1 = [1, 14, 5, 20, 4, 2, 54, 20, 87, 98, 3, 1, 32]\n",
    "lowVal1, highVal1 = 14, 20\n",
    "result1 = partition_array(arr1, lowVal1, highVal1)\n",
    "print(result1)  # Output: [1, 5, 4, 2, 3, 1, 14, 20, 20, 54, 87, 98, 32]\n",
    "\n",
    "arr2 = [1, 14, 5, 20, 4, 2, 54, 20, 87, 98, 3, 1, 32]\n",
    "lowVal2, highVal2 = 20, 20\n",
    "result2 = partition_array(arr2, lowVal2, highVal2)\n",
    "print(result2) "
   ]
  },
  {
   "cell_type": "code",
   "execution_count": null,
   "id": "7a58e9a9-2744-42ae-a1b0-3cf28d76c088",
   "metadata": {},
   "outputs": [],
   "source": []
  }
 ],
 "metadata": {
  "kernelspec": {
   "display_name": "Python 3 (ipykernel)",
   "language": "python",
   "name": "python3"
  },
  "language_info": {
   "codemirror_mode": {
    "name": "ipython",
    "version": 3
   },
   "file_extension": ".py",
   "mimetype": "text/x-python",
   "name": "python",
   "nbconvert_exporter": "python",
   "pygments_lexer": "ipython3",
   "version": "3.12.5"
  }
 },
 "nbformat": 4,
 "nbformat_minor": 5
}
